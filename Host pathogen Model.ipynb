{
 "cells": [
  {
   "cell_type": "markdown",
   "id": "b7086f7f",
   "metadata": {},
   "source": [
    "**Host pathogen Model**"
   ]
  },
  {
   "cell_type": "markdown",
   "id": "3ff823d2",
   "metadata": {},
   "source": [
    "Assume a two dimensional space filled with empty sites (0; quiescent) in which a small number of host organisms are initially populated. Some of them are \"infected\" by pathogens. A healthy host (1; also quiescent) without pathogens will grow into nearby empty sites stochastically. A healthy host may get infected by pathogens with a probability determined by a function of the number of infected hosts (2) in its neighbourhood. An infected host will die immediately (pr after some period of time).   \n",
    "Dynamic patterns formed in the host-pathogen model lacks such characteristic length scales. "
   ]
  },
  {
   "cell_type": "code",
   "execution_count": 1,
   "id": "4e33fa5f",
   "metadata": {},
   "outputs": [
    {
     "name": "stderr",
     "output_type": "stream",
     "text": [
      "\n",
      "Bad key text.latex.preview in file C:\\Users\\Omika\\anaconda3\\lib\\site-packages\\matplotlib\\mpl-data\\stylelib\\_classic_test.mplstyle, line 123 ('text.latex.preview : False')\n",
      "You probably need to get an updated matplotlibrc file from\n",
      "https://github.com/matplotlib/matplotlib/blob/v3.5.0/matplotlibrc.template\n",
      "or from the matplotlib source distribution\n",
      "\n",
      "Bad key mathtext.fallback_to_cm in file C:\\Users\\Omika\\anaconda3\\lib\\site-packages\\matplotlib\\mpl-data\\stylelib\\_classic_test.mplstyle, line 155 ('mathtext.fallback_to_cm : True  # When True, use symbols from the Computer Modern')\n",
      "You probably need to get an updated matplotlibrc file from\n",
      "https://github.com/matplotlib/matplotlib/blob/v3.5.0/matplotlibrc.template\n",
      "or from the matplotlib source distribution\n",
      "\n",
      "Bad key savefig.jpeg_quality in file C:\\Users\\Omika\\anaconda3\\lib\\site-packages\\matplotlib\\mpl-data\\stylelib\\_classic_test.mplstyle, line 418 ('savefig.jpeg_quality: 95       # when a jpeg is saved, the default quality parameter.')\n",
      "You probably need to get an updated matplotlibrc file from\n",
      "https://github.com/matplotlib/matplotlib/blob/v3.5.0/matplotlibrc.template\n",
      "or from the matplotlib source distribution\n",
      "\n",
      "Bad key keymap.all_axes in file C:\\Users\\Omika\\anaconda3\\lib\\site-packages\\matplotlib\\mpl-data\\stylelib\\_classic_test.mplstyle, line 466 ('keymap.all_axes : a                 # enable all axes')\n",
      "You probably need to get an updated matplotlibrc file from\n",
      "https://github.com/matplotlib/matplotlib/blob/v3.5.0/matplotlibrc.template\n",
      "or from the matplotlib source distribution\n",
      "\n",
      "Bad key animation.avconv_path in file C:\\Users\\Omika\\anaconda3\\lib\\site-packages\\matplotlib\\mpl-data\\stylelib\\_classic_test.mplstyle, line 477 ('animation.avconv_path: avconv     # Path to avconv binary. Without full path')\n",
      "You probably need to get an updated matplotlibrc file from\n",
      "https://github.com/matplotlib/matplotlib/blob/v3.5.0/matplotlibrc.template\n",
      "or from the matplotlib source distribution\n",
      "\n",
      "Bad key animation.avconv_args in file C:\\Users\\Omika\\anaconda3\\lib\\site-packages\\matplotlib\\mpl-data\\stylelib\\_classic_test.mplstyle, line 479 ('animation.avconv_args:            # Additional arguments to pass to avconv')\n",
      "You probably need to get an updated matplotlibrc file from\n",
      "https://github.com/matplotlib/matplotlib/blob/v3.5.0/matplotlibrc.template\n",
      "or from the matplotlib source distribution\n"
     ]
    }
   ],
   "source": [
    "import matplotlib\n",
    "matplotlib.use(\"TkAgg\")\n",
    "\n",
    "import pylab as pl\n",
    "import random as rd\n",
    "import scipy as sp\n",
    "\n",
    "rd.seed()\n",
    "\n",
    "width = 50\n",
    "height = 50\n",
    "initProb = 0.01\n",
    "infectionRate = 0.85\n",
    "regrowthRate = 0.15\n",
    "\n",
    "def init():\n",
    "    global time, config, nextconfig\n",
    "\n",
    "    time = 0\n",
    "    \n",
    "    config = sp.zeros([height, width])\n",
    "    for x in range(width):\n",
    "        for y in range(height):\n",
    "            if rd.random() < initProb:\n",
    "                state = 2\n",
    "            else:\n",
    "                state = 1\n",
    "            config[y, x] = state\n",
    "\n",
    "    nextconfig = sp.zeros([height, width])\n",
    "    \n",
    "def draw():\n",
    "    pl.cla()\n",
    "    pl.pcolor(config, vmin = 0, vmax = 2, cmap = pl.cm.jet)\n",
    "    pl.axis('image')\n",
    "    pl.title('t = ' + str(time))\n",
    "    \n",
    "def step():\n",
    "    global time, config, nextconfig\n",
    "\n",
    "    time += 1\n",
    "\n",
    "    for x in range(width):\n",
    "        for y in range(height):\n",
    "            state = config[y, x]\n",
    "            if state == 0:\n",
    "                for dx in range(-1, 2):\n",
    "                    for dy in range(-1, 2):\n",
    "                        if config[(y+dy)%height, (x+dx)%width] == 1:\n",
    "                            if rd.random() < regrowthRate:\n",
    "                                state = 1\n",
    "            elif state == 1:\n",
    "                for dx in range(-1, 2):\n",
    "                    for dy in range(-1, 2):\n",
    "                        if config[(y+dy)%height, (x+dx)%width] == 2:\n",
    "                            if rd.random() < infectionRate:\n",
    "                                state = 2\n",
    "            else:\n",
    "                state = 0\n",
    "\n",
    "            nextconfig[y, x] = state\n",
    "\n",
    "    config, nextconfig = nextconfig, config"
   ]
  },
  {
   "cell_type": "code",
   "execution_count": 2,
   "id": "dd9c43e6",
   "metadata": {},
   "outputs": [
    {
     "name": "stderr",
     "output_type": "stream",
     "text": [
      "C:\\Users\\Omika\\AppData\\Local\\Temp/ipykernel_31856/2521634369.py:21: DeprecationWarning: scipy.zeros is deprecated and will be removed in SciPy 2.0.0, use numpy.zeros instead\n",
      "  config = sp.zeros([height, width])\n",
      "C:\\Users\\Omika\\AppData\\Local\\Temp/ipykernel_31856/2521634369.py:30: DeprecationWarning: scipy.zeros is deprecated and will be removed in SciPy 2.0.0, use numpy.zeros instead\n",
      "  nextconfig = sp.zeros([height, width])\n",
      "C:\\Users\\Omika\\anaconda3\\lib\\site-packages\\ipykernel\\eventloops.py:256: RuntimeWarning: coroutine 'Kernel.do_one_iteration' was never awaited\n",
      "  self.func()\n",
      "RuntimeWarning: Enable tracemalloc to get the object allocation traceback\n"
     ]
    }
   ],
   "source": [
    "import pycxsimulator\n",
    "pycxsimulator.GUI().start(func=[init, draw, step])"
   ]
  },
  {
   "cell_type": "code",
   "execution_count": null,
   "id": "c0f3f03f",
   "metadata": {},
   "outputs": [],
   "source": []
  }
 ],
 "metadata": {
  "@webio": {
   "lastCommId": null,
   "lastKernelId": null
  },
  "kernelspec": {
   "display_name": "Python 3 (ipykernel)",
   "language": "python",
   "name": "python3"
  },
  "language_info": {
   "codemirror_mode": {
    "name": "ipython",
    "version": 3
   },
   "file_extension": ".py",
   "mimetype": "text/x-python",
   "name": "python",
   "nbconvert_exporter": "python",
   "pygments_lexer": "ipython3",
   "version": "3.8.12"
  }
 },
 "nbformat": 4,
 "nbformat_minor": 5
}
